{
 "cells": [
  {
   "cell_type": "code",
   "execution_count": 10,
   "metadata": {},
   "outputs": [
    {
     "name": "stderr",
     "output_type": "stream",
     "text": [
      "2022-12-26 06:58:31,949 - isocomp - DEBUG - 0.1.0\n",
      "2022-12-26 06:58:31,951 - isocomp - DEBUG - /home/oguzkhan/code/isocomp/docs\n"
     ]
    }
   ],
   "source": [
    "import logging\n",
    "import os\n",
    "\n",
    "import pandas as pd\n",
    "\n",
    "import isocomp\n",
    "from isocomp.Compare import IsoformLibrary\n",
    "from isocomp.Compare import utils as compare_utils\n",
    "\n",
    "logging.basicConfig(level=logging.DEBUG,\n",
    "                    format='%(asctime)s - %(name)s - '\n",
    "                    '%(levelname)s - %(message)s')\n",
    "\n",
    "logger = logging.getLogger('isocomp')\n",
    "\n",
    "logger.debug(isocomp.__version__)\n",
    "logger.debug(os.getcwd())"
   ]
  },
  {
   "cell_type": "code",
   "execution_count": 3,
   "metadata": {},
   "outputs": [
    {
     "name": "stderr",
     "output_type": "stream",
     "text": [
      "2022-12-26 06:57:13,891 - root - DEBUG - trying to set new clustered_gtf_path: {new_path}\n",
      "2022-12-26 06:57:13,932 - root - DEBUG - new dict: {'hg002_sqanti_fltr': '../src/tests/data/hg002_sqanti_fltr.fasta', 'hg004_sqanti_fltr': '../src/tests/data/hg004_sqanti_fltr.fasta', 'hg005_sqanti_fltr': '../src/tests/data/hg005_sqanti_fltr.fasta'}\n"
     ]
    }
   ],
   "source": [
    "d = dict(zip(['hg002_sqanti_fltr',\n",
    "              'hg004_sqanti_fltr',\n",
    "              'hg005_sqanti_fltr'],\n",
    "             ['../src/tests/data/hg002_sqanti_fltr.fasta',\n",
    "              '../src/tests/data/hg004_sqanti_fltr.fasta',\n",
    "              '../src/tests/data/hg005_sqanti_fltr.fasta']))\n",
    "\n",
    "clustered_gtf_path = '../src/tests/data/clustered_regions.gtf'\n",
    "\n",
    "ia = IsoformLibrary(clustered_gtf_path,d)"
   ]
  },
  {
   "cell_type": "code",
   "execution_count": 4,
   "metadata": {},
   "outputs": [
    {
     "data": {
      "text/plain": [
       "'GAGAGGCAGC'"
      ]
     },
     "execution_count": 4,
     "metadata": {},
     "output_type": "execute_result"
    }
   ],
   "source": [
    "ia.get_isoform('hg002_sqanti_fltr','PB.17.2',start=0,end=10)"
   ]
  },
  {
   "cell_type": "code",
   "execution_count": 5,
   "metadata": {},
   "outputs": [],
   "source": [
    "c1 = ia.get_cluster('1')"
   ]
  },
  {
   "cell_type": "code",
   "execution_count": 7,
   "metadata": {},
   "outputs": [
    {
     "data": {
      "text/plain": [
       "0    tx_0\n",
       "1    tx_1\n",
       "2    tx_2\n",
       "3    tx_3\n",
       "4    tx_4\n",
       "Name: unique_id, dtype: object"
      ]
     },
     "execution_count": 7,
     "metadata": {},
     "output_type": "execute_result"
    }
   ],
   "source": [
    "c1.unique_id"
   ]
  },
  {
   "cell_type": "code",
   "execution_count": 12,
   "metadata": {},
   "outputs": [
    {
     "data": {
      "text/html": [
       "<div>\n",
       "<style scoped>\n",
       "    .dataframe tbody tr th:only-of-type {\n",
       "        vertical-align: middle;\n",
       "    }\n",
       "\n",
       "    .dataframe tbody tr th {\n",
       "        vertical-align: top;\n",
       "    }\n",
       "\n",
       "    .dataframe thead th {\n",
       "        text-align: right;\n",
       "    }\n",
       "</style>\n",
       "<table border=\"1\" class=\"dataframe\">\n",
       "  <thead>\n",
       "    <tr style=\"text-align: right;\">\n",
       "      <th></th>\n",
       "      <th>V1</th>\n",
       "      <th>V2</th>\n",
       "    </tr>\n",
       "  </thead>\n",
       "  <tbody>\n",
       "    <tr>\n",
       "      <th>2</th>\n",
       "      <td>tx_0</td>\n",
       "      <td>tx_1</td>\n",
       "    </tr>\n",
       "    <tr>\n",
       "      <th>1</th>\n",
       "      <td>tx_0</td>\n",
       "      <td>tx_2</td>\n",
       "    </tr>\n",
       "    <tr>\n",
       "      <th>3</th>\n",
       "      <td>tx_0</td>\n",
       "      <td>tx_3</td>\n",
       "    </tr>\n",
       "    <tr>\n",
       "      <th>0</th>\n",
       "      <td>tx_0</td>\n",
       "      <td>tx_4</td>\n",
       "    </tr>\n",
       "    <tr>\n",
       "      <th>7</th>\n",
       "      <td>tx_2</td>\n",
       "      <td>tx_1</td>\n",
       "    </tr>\n",
       "    <tr>\n",
       "      <th>8</th>\n",
       "      <td>tx_2</td>\n",
       "      <td>tx_3</td>\n",
       "    </tr>\n",
       "    <tr>\n",
       "      <th>9</th>\n",
       "      <td>tx_3</td>\n",
       "      <td>tx_1</td>\n",
       "    </tr>\n",
       "    <tr>\n",
       "      <th>5</th>\n",
       "      <td>tx_4</td>\n",
       "      <td>tx_1</td>\n",
       "    </tr>\n",
       "    <tr>\n",
       "      <th>4</th>\n",
       "      <td>tx_4</td>\n",
       "      <td>tx_2</td>\n",
       "    </tr>\n",
       "    <tr>\n",
       "      <th>6</th>\n",
       "      <td>tx_4</td>\n",
       "      <td>tx_3</td>\n",
       "    </tr>\n",
       "  </tbody>\n",
       "</table>\n",
       "</div>"
      ],
      "text/plain": [
       "     V1    V2\n",
       "2  tx_0  tx_1\n",
       "1  tx_0  tx_2\n",
       "3  tx_0  tx_3\n",
       "0  tx_0  tx_4\n",
       "7  tx_2  tx_1\n",
       "8  tx_2  tx_3\n",
       "9  tx_3  tx_1\n",
       "5  tx_4  tx_1\n",
       "4  tx_4  tx_2\n",
       "6  tx_4  tx_3"
      ]
     },
     "execution_count": 12,
     "metadata": {},
     "output_type": "execute_result"
    }
   ],
   "source": [
    "pd.DataFrame.from_dict(compare_utils.vector_crosser(c1.unique_id,c1.unique_id))\\\n",
    "\t.sort_values(by=['V1','V2'])"
   ]
  },
  {
   "cell_type": "code",
   "execution_count": 13,
   "metadata": {},
   "outputs": [
    {
     "data": {
      "text/html": [
       "<div>\n",
       "<style scoped>\n",
       "    .dataframe tbody tr th:only-of-type {\n",
       "        vertical-align: middle;\n",
       "    }\n",
       "\n",
       "    .dataframe tbody tr th {\n",
       "        vertical-align: top;\n",
       "    }\n",
       "\n",
       "    .dataframe thead th {\n",
       "        text-align: right;\n",
       "    }\n",
       "</style>\n",
       "<table border=\"1\" class=\"dataframe\">\n",
       "  <thead>\n",
       "    <tr style=\"text-align: right;\">\n",
       "      <th></th>\n",
       "      <th>Chromosome</th>\n",
       "      <th>Source</th>\n",
       "      <th>Feature</th>\n",
       "      <th>Start</th>\n",
       "      <th>End</th>\n",
       "      <th>Score</th>\n",
       "      <th>Strand</th>\n",
       "      <th>Frame</th>\n",
       "      <th>transcript_id</th>\n",
       "      <th>gene_id</th>\n",
       "      <th>Cluster</th>\n",
       "      <th>unique_id</th>\n",
       "    </tr>\n",
       "  </thead>\n",
       "  <tbody>\n",
       "    <tr>\n",
       "      <th>0</th>\n",
       "      <td>chr1</td>\n",
       "      <td>hg004_sqanti_fltr</td>\n",
       "      <td>transcript</td>\n",
       "      <td>1013496</td>\n",
       "      <td>1014531</td>\n",
       "      <td>.</td>\n",
       "      <td>+</td>\n",
       "      <td>.</td>\n",
       "      <td>PB.13.1</td>\n",
       "      <td>PB.13</td>\n",
       "      <td>1</td>\n",
       "      <td>tx_0</td>\n",
       "    </tr>\n",
       "    <tr>\n",
       "      <th>1</th>\n",
       "      <td>chr1</td>\n",
       "      <td>hg005_sqanti_fltr</td>\n",
       "      <td>transcript</td>\n",
       "      <td>1013496</td>\n",
       "      <td>1014531</td>\n",
       "      <td>.</td>\n",
       "      <td>+</td>\n",
       "      <td>.</td>\n",
       "      <td>PB.17.1</td>\n",
       "      <td>PB.17</td>\n",
       "      <td>1</td>\n",
       "      <td>tx_1</td>\n",
       "    </tr>\n",
       "    <tr>\n",
       "      <th>2</th>\n",
       "      <td>chr1</td>\n",
       "      <td>hg005_sqanti_fltr</td>\n",
       "      <td>transcript</td>\n",
       "      <td>1013496</td>\n",
       "      <td>1014531</td>\n",
       "      <td>.</td>\n",
       "      <td>+</td>\n",
       "      <td>.</td>\n",
       "      <td>PB.17.2</td>\n",
       "      <td>PB.17</td>\n",
       "      <td>1</td>\n",
       "      <td>tx_2</td>\n",
       "    </tr>\n",
       "    <tr>\n",
       "      <th>3</th>\n",
       "      <td>chr1</td>\n",
       "      <td>hg002_sqanti_fltr</td>\n",
       "      <td>transcript</td>\n",
       "      <td>1013503</td>\n",
       "      <td>1014531</td>\n",
       "      <td>.</td>\n",
       "      <td>+</td>\n",
       "      <td>.</td>\n",
       "      <td>PB.17.2</td>\n",
       "      <td>PB.17</td>\n",
       "      <td>1</td>\n",
       "      <td>tx_3</td>\n",
       "    </tr>\n",
       "    <tr>\n",
       "      <th>4</th>\n",
       "      <td>chr1</td>\n",
       "      <td>hg004_sqanti_fltr</td>\n",
       "      <td>transcript</td>\n",
       "      <td>1013531</td>\n",
       "      <td>1014531</td>\n",
       "      <td>.</td>\n",
       "      <td>+</td>\n",
       "      <td>.</td>\n",
       "      <td>PB.13.2</td>\n",
       "      <td>PB.13</td>\n",
       "      <td>1</td>\n",
       "      <td>tx_4</td>\n",
       "    </tr>\n",
       "  </tbody>\n",
       "</table>\n",
       "</div>"
      ],
      "text/plain": [
       "+--------------+-------------------+--------------+-----------+-------+\n",
       "| Chromosome   | Source            | Feature      |     Start | +8    |\n",
       "| (category)   | (object)          | (category)   |   (int32) | ...   |\n",
       "|--------------+-------------------+--------------+-----------+-------|\n",
       "| chr1         | hg004_sqanti_fltr | transcript   |   1013496 | ...   |\n",
       "| chr1         | hg005_sqanti_fltr | transcript   |   1013496 | ...   |\n",
       "| chr1         | hg005_sqanti_fltr | transcript   |   1013496 | ...   |\n",
       "| chr1         | hg002_sqanti_fltr | transcript   |   1013503 | ...   |\n",
       "| chr1         | hg004_sqanti_fltr | transcript   |   1013531 | ...   |\n",
       "+--------------+-------------------+--------------+-----------+-------+\n",
       "Stranded PyRanges object has 5 rows and 12 columns from 1 chromosomes.\n",
       "For printing, the PyRanges was sorted on Chromosome and Strand.\n",
       "8 hidden columns: End, Score, Strand, Frame, transcript_id, gene_id, Cluster, ... (+ 1 more.)"
      ]
     },
     "execution_count": 13,
     "metadata": {},
     "output_type": "execute_result"
    }
   ],
   "source": [
    "c1"
   ]
  },
  {
   "cell_type": "code",
   "execution_count": 24,
   "metadata": {},
   "outputs": [
    {
     "data": {
      "text/html": [
       "<div>\n",
       "<style scoped>\n",
       "    .dataframe tbody tr th:only-of-type {\n",
       "        vertical-align: middle;\n",
       "    }\n",
       "\n",
       "    .dataframe tbody tr th {\n",
       "        vertical-align: top;\n",
       "    }\n",
       "\n",
       "    .dataframe thead th {\n",
       "        text-align: right;\n",
       "    }\n",
       "</style>\n",
       "<table border=\"1\" class=\"dataframe\">\n",
       "  <thead>\n",
       "    <tr style=\"text-align: right;\">\n",
       "      <th></th>\n",
       "      <th>Chromosome</th>\n",
       "      <th>Source</th>\n",
       "      <th>Feature</th>\n",
       "      <th>Start</th>\n",
       "      <th>End</th>\n",
       "      <th>Score</th>\n",
       "      <th>Strand</th>\n",
       "      <th>Frame</th>\n",
       "      <th>transcript_id</th>\n",
       "      <th>gene_id</th>\n",
       "      <th>Cluster</th>\n",
       "      <th>unique_id</th>\n",
       "    </tr>\n",
       "  </thead>\n",
       "  <tbody>\n",
       "    <tr>\n",
       "      <th>3</th>\n",
       "      <td>chr1</td>\n",
       "      <td>hg002_sqanti_fltr</td>\n",
       "      <td>transcript</td>\n",
       "      <td>1013503</td>\n",
       "      <td>1014531</td>\n",
       "      <td>.</td>\n",
       "      <td>+</td>\n",
       "      <td>.</td>\n",
       "      <td>PB.17.2</td>\n",
       "      <td>PB.17</td>\n",
       "      <td>1</td>\n",
       "      <td>tx_3</td>\n",
       "    </tr>\n",
       "  </tbody>\n",
       "</table>\n",
       "</div>"
      ],
      "text/plain": [
       "+--------------+-------------------+--------------+-----------+-------+\n",
       "| Chromosome   | Source            | Feature      |     Start | +8    |\n",
       "| (category)   | (object)          | (category)   |   (int32) | ...   |\n",
       "|--------------+-------------------+--------------+-----------+-------|\n",
       "| chr1         | hg002_sqanti_fltr | transcript   |   1013503 | ...   |\n",
       "+--------------+-------------------+--------------+-----------+-------+\n",
       "Stranded PyRanges object has 1 rows and 12 columns from 1 chromosomes.\n",
       "For printing, the PyRanges was sorted on Chromosome and Strand.\n",
       "8 hidden columns: End, Score, Strand, Frame, transcript_id, gene_id, Cluster, ... (+ 1 more.)"
      ]
     },
     "execution_count": 24,
     "metadata": {},
     "output_type": "execute_result"
    }
   ],
   "source": [
    "ia.clustered_gtf[(ia.clustered_gtf.Source == 'hg002_sqanti_fltr') & (ia.clustered_gtf.transcript_id == 'PB.17.2')]"
   ]
  },
  {
   "cell_type": "code",
   "execution_count": 27,
   "metadata": {},
   "outputs": [
    {
     "data": {
      "text/plain": [
       "{'V1': ['tx_0',\n",
       "  'tx_0',\n",
       "  'tx_0',\n",
       "  'tx_0',\n",
       "  'tx_4',\n",
       "  'tx_4',\n",
       "  'tx_4',\n",
       "  'tx_2',\n",
       "  'tx_2',\n",
       "  'tx_3'],\n",
       " 'V2': ['tx_4',\n",
       "  'tx_2',\n",
       "  'tx_1',\n",
       "  'tx_3',\n",
       "  'tx_2',\n",
       "  'tx_1',\n",
       "  'tx_3',\n",
       "  'tx_1',\n",
       "  'tx_3',\n",
       "  'tx_1']}"
      ]
     },
     "execution_count": 27,
     "metadata": {},
     "output_type": "execute_result"
    }
   ],
   "source": [
    "compare_utils.vector_crosser(c1.unique_id,c1.unique_id)"
   ]
  },
  {
   "cell_type": "code",
   "execution_count": 36,
   "metadata": {},
   "outputs": [
    {
     "data": {
      "text/plain": [
       "Source           hg005_sqanti_fltr\n",
       "transcript_id              PB.17.1\n",
       "Name: 1, dtype: object"
      ]
     },
     "execution_count": 36,
     "metadata": {},
     "output_type": "execute_result"
    }
   ],
   "source": [
    "c1.df.loc[1,['Source','transcript_id']]"
   ]
  },
  {
   "attachments": {},
   "cell_type": "markdown",
   "metadata": {},
   "source": [
    "# Exploring pyranges concat and cluster"
   ]
  },
  {
   "cell_type": "code",
   "execution_count": 33,
   "metadata": {},
   "outputs": [],
   "source": [
    "import matplotlib.pyplot as plt\n",
    "import matplotlib.lines as mlines\n",
    "import pandas as pd\n",
    "import pyranges as pr\n",
    "\n",
    "def plot_pyranges(clustered_pyranges, title):\n",
    "    fig, ax = plt.subplots(figsize=(12, 3))\n",
    "    ax.set_title(title)\n",
    "\n",
    "    # Calculate the cluster intervals\n",
    "    cluster_intervals = clustered_pyranges.df.groupby('Cluster').agg(\n",
    "        {'Chromosome': 'first', 'Start': 'min', 'End': 'max'}).reset_index()\n",
    "\n",
    "    # Function to draw lines\n",
    "    def draw_line(row, linestyle, color, y_offset=0):\n",
    "        start = row.Start\n",
    "        end = row.End\n",
    "        cluster = row.Cluster\n",
    "        ax.add_line(mlines.Line2D([start, end], [cluster + y_offset, cluster + y_offset], color=color, linewidth=2, linestyle=linestyle))\n",
    "        ax.add_line(mlines.Line2D([start, start], [cluster + y_offset - 0.5, cluster + y_offset + 0.5], color=color, linewidth=2))\n",
    "        ax.add_line(mlines.Line2D([end, end], [cluster + y_offset - 0.5, cluster + y_offset + 0.5], color=color, linewidth=2))\n",
    "\n",
    "    # Draw the individual feature intervals as solid lines with stacking\n",
    "    y_offsets = {cluster: 0 for cluster in clustered_pyranges.Cluster.unique()}\n",
    "    for idx, row in enumerate(clustered_pyranges.df.itertuples()):\n",
    "        while any((clustered_pyranges.df.Start < row.End) & (clustered_pyranges.df.End > row.Start) & (clustered_pyranges.df.Cluster == row.Cluster) & (clustered_pyranges.df.index != row.Index)):\n",
    "            y_offsets[row.Cluster] += 1\n",
    "            draw_line(row, linestyle='-', color='blue', y_offset=y_offsets[row.Cluster])\n",
    "            break\n",
    "        else:\n",
    "            draw_line(row, linestyle='-', color='blue', y_offset=y_offsets[row.Cluster])\n",
    "\n",
    "    # Draw the cluster intervals as dashed lines\n",
    "    for idx, row in enumerate(cluster_intervals.itertuples()):\n",
    "        draw_line(row, linestyle='--', color='red', y_offset=-1)\n",
    "\n",
    "    ax.set_xlabel('Genomic Position')\n",
    "    ax.set_ylabel('Cluster ID')\n",
    "    ax.set_ylim(-1, clustered_pyranges.Cluster.max() + max(y_offsets.values()) + 1)\n",
    "    ax.set_xlim(clustered_pyranges.Start.min() - 10, clustered_pyranges.End.max() + 10)\n",
    "    plt.show()"
   ]
  },
  {
   "cell_type": "code",
   "execution_count": 35,
   "metadata": {},
   "outputs": [
    {
     "data": {
      "image/png": "[encoded data removed]",
      "text/plain": [
       "<Figure size 1200x300 with 1 Axes>"
      ]
     },
     "metadata": {},
     "output_type": "display_data"
    }
   ],
   "source": [
    "\n",
    "case_1 = [\n",
    "\tpr.from_dict({\"Chromosome\": [\"chr1\"], \"Start\": [10], \"End\": [20]}),\n",
    "\tpr.from_dict({\"Chromosome\": [\"chr1\"], \"Start\": [30], \"End\": [40]}),\n",
    "\tpr.from_dict({\"Chromosome\": [\"chr1\"], \"Start\": [50], \"End\": [60]})]\n",
    "\n",
    "concatenated = pr.concat(case_1)\n",
    "clustered = concatenated.cluster()\n",
    "\n",
    "plot_pyranges(clustered, 'Case 1')\n"
   ]
  },
  {
   "cell_type": "code",
   "execution_count": 36,
   "metadata": {},
   "outputs": [
    {
     "data": {
      "image/png": "[encoded data removed]",
      "text/plain": [
       "<Figure size 1200x300 with 1 Axes>"
      ]
     },
     "metadata": {},
     "output_type": "display_data"
    }
   ],
   "source": [
    "\n",
    "case_2 = [\n",
    "\tpr.from_dict({\"Chromosome\": [\"chr1\"], \"Start\": [10], \"End\": [20]}),\n",
    "\tpr.from_dict({\"Chromosome\": [\"chr1\"], \"Start\": [15], \"End\": [25]}),\n",
    "\tpr.from_dict({\"Chromosome\": [\"chr1\"], \"Start\": [50], \"End\": [60]})]\n",
    "\n",
    "concatenated = pr.concat(case_2)\n",
    "clustered = concatenated.cluster()\n",
    "\n",
    "plot_pyranges(clustered, 'Case 2')\n"
   ]
  },
  {
   "cell_type": "code",
   "execution_count": 37,
   "metadata": {},
   "outputs": [
    {
     "data": {
      "image/png": "[encoded data removed]",
      "text/plain": [
       "<Figure size 1200x300 with 1 Axes>"
      ]
     },
     "metadata": {},
     "output_type": "display_data"
    }
   ],
   "source": [
    "\n",
    "case_3 = [\n",
    "\tpr.from_dict({\"Chromosome\": [\"chr1\"], \"Start\": [10], \"End\": [20]}),\n",
    "\tpr.from_dict({\"Chromosome\": [\"chr1\"], \"Start\": [15], \"End\": [25]}),\n",
    "\tpr.from_dict({\"Chromosome\": [\"chr1\"], \"Start\": [18], \"End\": [28]})]\n",
    "\n",
    "concatenated = pr.concat(case_3)\n",
    "clustered = concatenated.cluster()\n",
    "\n",
    "plot_pyranges(clustered, 'Case 3')\n",
    "\n"
   ]
  },
  {
   "cell_type": "code",
   "execution_count": 38,
   "metadata": {},
   "outputs": [
    {
     "data": {
      "image/png": "[encoded data removed]",
      "text/plain": [
       "<Figure size 1200x300 with 1 Axes>"
      ]
     },
     "metadata": {},
     "output_type": "display_data"
    }
   ],
   "source": [
    "case_4 = [\n",
    "\tpr.from_dict({\"Chromosome\": [\"chr1\"], \"Start\": [10], \"End\": [50]}),\n",
    "\tpr.from_dict({\"Chromosome\": [\"chr1\"], \"Start\": [15], \"End\": [25]}),\n",
    "\tpr.from_dict({\"Chromosome\": [\"chr1\"], \"Start\": [30], \"End\": [45]})]\n",
    "\n",
    "concatenated = pr.concat(case_4)\n",
    "clustered = concatenated.cluster()\n",
    "\n",
    "plot_pyranges(clustered, 'Case 4')"
   ]
  },
  {
   "cell_type": "code",
   "execution_count": 46,
   "metadata": {},
   "outputs": [
    {
     "data": {
      "text/plain": [
       "'chr1'"
      ]
     },
     "execution_count": 46,
     "metadata": {},
     "output_type": "execute_result"
    }
   ],
   "source": [
    "list(c1.Chromosome)[0]"
   ]
  },
  {
   "cell_type": "code",
   "execution_count": 48,
   "metadata": {},
   "outputs": [
    {
     "data": {
      "text/plain": [
       "{'V1': ['tx_2', 'tx_2', 'tx_1'], 'V2': ['tx_1', 'tx_3', 'tx_3']}"
      ]
     },
     "execution_count": 48,
     "metadata": {},
     "output_type": "execute_result"
    }
   ],
   "source": [
    "compare_utils.vector_crosser(['tx_1','tx_2','tx_3'],['tx_1','tx_2','tx_3'])"
   ]
  },
  {
   "cell_type": "code",
   "execution_count": null,
   "metadata": {},
   "outputs": [],
   "source": []
  }
 ],
 "metadata": {
  "kernelspec": {
   "display_name": ".venv",
   "language": "python",
   "name": "python3"
  },
  "language_info": {
   "codemirror_mode": {
    "name": "ipython",
    "version": 3
   },
   "file_extension": ".py",
   "mimetype": "text/x-python",
   "name": "python",
   "nbconvert_exporter": "python",
   "pygments_lexer": "ipython3",
   "version": "3.9.16"
  },
  "orig_nbformat": 4,
  "vscode": {
   "interpreter": {
    "hash": "1e0d7edb97d000d0288aec6e7bce2eb7899758b392cec36415b7614d5f6eed0c"
   }
  }
 },
 "nbformat": 4,
 "nbformat_minor": 2
}
