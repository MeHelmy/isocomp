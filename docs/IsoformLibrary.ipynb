{
 "cells": [
  {
   "cell_type": "code",
   "execution_count": 16,
   "metadata": {},
   "outputs": [
    {
     "name": "stderr",
     "output_type": "stream",
     "text": [
      "2022-12-25 23:08:23,710 - isocomp - DEBUG - 0.1.0\n",
      "2022-12-25 23:08:23,712 - isocomp - DEBUG - /home/oguzkhan/code/isocomp/docs\n"
     ]
    }
   ],
   "source": [
    "import logging\n",
    "import os\n",
    "import isocomp\n",
    "from isocomp.Compare import IsoformLibrary\n",
    "\n",
    "logging.basicConfig(level=logging.DEBUG,\n",
    "                    format='%(asctime)s - %(name)s - '\n",
    "                    '%(levelname)s - %(message)s')\n",
    "\n",
    "logger = logging.getLogger('isocomp')\n",
    "\n",
    "logger.debug(isocomp.__version__)\n",
    "logger.debug(os.getcwd())"
   ]
  },
  {
   "cell_type": "code",
   "execution_count": 14,
   "metadata": {},
   "outputs": [
    {
     "name": "stderr",
     "output_type": "stream",
     "text": [
      "2022-12-25 23:07:26,806 - root - DEBUG - trying to set new clustered_gtf_path: {new_path}\n",
      "2022-12-25 23:07:26,820 - root - DEBUG - new dict: {'hg002_sqanti_fltr': '../src/tests/data/hg002_sqanti_fltr.fasta', 'hg004_sqanti_fltr': '../src/tests/data/hg004_sqanti_fltr.fasta', 'hg005_sqanti_fltr': '../src/tests/data/hg005_sqanti_fltr.fasta'}\n"
     ]
    }
   ],
   "source": [
    "d = dict(zip(['hg002_sqanti_fltr',\n",
    "              'hg004_sqanti_fltr',\n",
    "              'hg005_sqanti_fltr'],\n",
    "             ['../src/tests/data/hg002_sqanti_fltr.fasta',\n",
    "              '../src/tests/data/hg004_sqanti_fltr.fasta',\n",
    "              '../src/tests/data/hg005_sqanti_fltr.fasta']))\n",
    "\n",
    "clustered_gtf_path = '../src/tests/data/clustered_regions.gtf'\n",
    "\n",
    "ia = IsoformLibrary(clustered_gtf_path,d)"
   ]
  },
  {
   "cell_type": "code",
   "execution_count": 18,
   "metadata": {},
   "outputs": [],
   "source": [
    "ia.get_isoform('hg002_sqanti_fltr','PB.17.2')"
   ]
  },
  {
   "cell_type": "code",
   "execution_count": null,
   "metadata": {},
   "outputs": [],
   "source": []
  }
 ],
 "metadata": {
  "kernelspec": {
   "display_name": ".venv",
   "language": "python",
   "name": "python3"
  },
  "language_info": {
   "codemirror_mode": {
    "name": "ipython",
    "version": 3
   },
   "file_extension": ".py",
   "mimetype": "text/x-python",
   "name": "python",
   "nbconvert_exporter": "python",
   "pygments_lexer": "ipython3",
   "version": "3.9.16"
  },
  "orig_nbformat": 4,
  "vscode": {
   "interpreter": {
    "hash": "1e0d7edb97d000d0288aec6e7bce2eb7899758b392cec36415b7614d5f6eed0c"
   }
  }
 },
 "nbformat": 4,
 "nbformat_minor": 2
}
